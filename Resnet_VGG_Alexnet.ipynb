{
  "cells": [
    {
      "cell_type": "markdown",
      "metadata": {
        "id": "view-in-github",
        "colab_type": "text"
      },
      "source": [
        "<a href=\"https://colab.research.google.com/github/ar1905ru/Neural-Networkk/blob/main/Resnet_VGG_Alexnet.ipynb\" target=\"_parent\"><img src=\"https://colab.research.google.com/assets/colab-badge.svg\" alt=\"Open In Colab\"/></a>"
      ]
    },
    {
      "cell_type": "code",
      "execution_count": null,
      "metadata": {
        "colab": {
          "base_uri": "https://localhost:8080/"
        },
        "id": "mWhctwviZei9",
        "outputId": "3d07eafa-bfaa-4b43-d762-662cbfd37ee8"
      },
      "outputs": [
        {
          "name": "stdout",
          "output_type": "stream",
          "text": [
            "Mounted at /content/drive\n"
          ]
        }
      ],
      "source": [
        "from google.colab import drive\n",
        "drive.mount('/content/drive')"
      ]
    },
    {
      "cell_type": "markdown",
      "metadata": {
        "id": "iyrxBi0eu0Bt"
      },
      "source": [
        "# Import the DataSet"
      ]
    },
    {
      "cell_type": "code",
      "execution_count": null,
      "metadata": {
        "id": "jH2SzrGAcCq4"
      },
      "outputs": [],
      "source": [
        "import numpy as np\n",
        "import time\n",
        "import copy\n",
        "import os\n",
        "import torch\n",
        "import torch.optim as optim\n",
        "import torch.nn as nn\n",
        "import torchvision\n",
        "import matplotlib.pyplot as plt\n",
        "from torch.optim import lr_scheduler\n",
        "from torchvision import datasets, models, transforms\n",
        "import tensorflow as tf\n",
        "import tensorflow.keras as keras\n",
        "\n",
        "import random\n",
        "from sklearn.preprocessing import MultiLabelBinarizer\n",
        "\n"
      ]
    },
    {
      "cell_type": "markdown",
      "metadata": {
        "id": "N08jOoisu0Bv"
      },
      "source": [
        "# Data Processing\n",
        "\n",
        "Downloading the apple folder containing 3 different type of leaf dieases - Apple_Scab, Apple_Black Rot, Cedar Apple Rust and Healthy leaves. \n"
      ]
    },
    {
      "cell_type": "code",
      "execution_count": null,
      "metadata": {
        "id": "k1QkYBS6cX26"
      },
      "outputs": [],
      "source": [
        "# Set the transformation for each dataset folder\n",
        "transforms = {\n",
        "    'train': transforms.Compose([\n",
        "        transforms.RandomResizedCrop(224),\n",
        "        transforms.RandomHorizontalFlip(),\n",
        "        transforms.ToTensor(),\n",
        "        transforms.Normalize([0.485, 0.456, 0.406], [0.229, 0.224, 0.225])\n",
        "    ]),\n",
        "    'val': transforms.Compose([\n",
        "        transforms.Resize(256),\n",
        "        transforms.CenterCrop(224),\n",
        "        transforms.ToTensor(),\n",
        "        transforms.Normalize([0.485, 0.456, 0.406], [0.229, 0.224, 0.225])\n",
        "    ]),\n",
        "    'test': transforms.Compose([\n",
        "        transforms.Resize(256),\n",
        "        transforms.CenterCrop(224),\n",
        "        transforms.ToTensor(),\n",
        "        transforms.Normalize([0.485, 0.456, 0.406], [0.229, 0.224, 0.225])\n",
        "    ])\n",
        "}"
      ]
    },
    {
      "cell_type": "markdown",
      "metadata": {
        "id": "bpNXSsnju0Bw"
      },
      "source": [
        "Dividing each folder into 3 different folders, they are train, val, and test. Then, we divide each group by 80% for train data (divide them for train and validation with 90:10 proportion) and 20% for test data. \n"
      ]
    },
    {
      "cell_type": "markdown",
      "source": [
        "Model cannot be processed without preparing the data and transforming to the required size. Therefore, we have to resize it and also crop the dataset with the same dimension with the first layer of the model.\n",
        "After transforming the image, we can load it to our code using ImageFolder method and applying transform to the dataset to it. \n",
        "\n",
        "The model is trained using all of the training dataset, but it will consume a lot of time. Therefore, we have to create batches to reduce the computation time. To make sure that the batches are random, shuffling the parameter to true.\n",
        "\n",
        "Finally, we retrieve the number of the images and the class names, and also we can enable the GPU using the torch.device function. "
      ],
      "metadata": {
        "id": "iJAPIb4swRNx"
      }
    },
    {
      "cell_type": "code",
      "execution_count": null,
      "metadata": {
        "id": "o66OytTdcbIN"
      },
      "outputs": [],
      "source": [
        "# Import the dataset\n",
        "data_dir = '/content/drive/MyDrive/Rutgers/Apple Disease Classification/data'\n",
        "image_datasets = {x: datasets.ImageFolder(os.path.join(data_dir, x), transform=transforms[x])\n",
        "                  for x in ['train', 'val', 'test']}"
      ]
    },
    {
      "cell_type": "code",
      "execution_count": null,
      "metadata": {
        "id": "4hR0LmVfcv7J"
      },
      "outputs": [],
      "source": [
        " # Shuffle the dataset and create batches from the dataset\n",
        "dataloaders = {x: torch.utils.data.DataLoader(image_datasets[x], batch_size=2, shuffle=True, num_workers=2)\n",
        "               for x in ['train', 'val', 'test']}"
      ]
    },
    {
      "cell_type": "code",
      "execution_count": null,
      "metadata": {
        "id": "bu_cQef8c64c"
      },
      "outputs": [],
      "source": [
        "# Get the number of images in each folder\n",
        "data_size = {x: len(image_datasets[x]) for x in ['train', 'val', 'test']}"
      ]
    },
    {
      "cell_type": "code",
      "execution_count": null,
      "metadata": {
        "id": "lMBTf6-4dApz"
      },
      "outputs": [],
      "source": [
        "# Get the class name\n",
        "class_names = image_datasets['train'].classes"
      ]
    },
    {
      "cell_type": "code",
      "execution_count": null,
      "metadata": {
        "id": "vW5UdCI_dD_4"
      },
      "outputs": [],
      "source": [
        "# Enable the GPU if it exists\n",
        "device = torch.device(\"cuda:0\" if torch.cuda.is_available() else \"cpu\")"
      ]
    },
    {
      "cell_type": "code",
      "execution_count": null,
      "metadata": {
        "id": "xWD99kv7DlXk"
      },
      "outputs": [],
      "source": [
        "dataiter = iter(dataloaders['train'])\n",
        "images, labels = dataiter.next()"
      ]
    },
    {
      "cell_type": "code",
      "execution_count": null,
      "metadata": {
        "colab": {
          "base_uri": "https://localhost:8080/",
          "height": 232
        },
        "id": "_DiOcrpFEOcE",
        "outputId": "637a28d8-6d8b-44eb-dd42-2b6486333666"
      },
      "outputs": [
        {
          "data": {
            "image/png": "[encoded data removed]",
            "text/plain": [
              "<Figure size 432x288 with 1 Axes>"
            ]
          },
          "metadata": {
            "needs_background": "light"
          },
          "output_type": "display_data"
        }
      ],
      "source": [
        "def imshow(inp, title=None):\n",
        "    inp = inp.numpy().transpose((1, 2, 0))\n",
        "    mean = np.array([0.485, 0.456, 0.406])\n",
        "    std = np.array([0.229, 0.224, 0.225])\n",
        "    inp = std * inp + mean\n",
        "    inp = np.clip(inp, 0, 1)\n",
        "    plt.imshow(inp)\n",
        "    if title is not None:\n",
        "        plt.title(title)\n",
        "    plt.pause(0.001)\n",
        "    \n",
        "out = torchvision.utils.make_grid(images)\n",
        "imshow(out, title=[class_names[x] for x in labels])"
      ]
    },
    {
      "cell_type": "markdown",
      "metadata": {
        "id": "ArceUCz3u0By"
      },
      "source": [
        "# Create a function to train and to evaluate the model\n",
        "\n",
        "\n",
        "\n",
        "Comparing VGG-16, ResNet-18, and AlexNet architecture to determine the suitable model depending upon the purpose. Since, we are using the pre-trained model,  we have to do is to download the model and set the pretrained parameter to true.\n",
        "Also, set the parameters to not calculate the gradient except the final layer which is the fully-connected layer. so that final layer’s output neurons can be changed based on the number of class on the dataset. "
      ]
    },
    {
      "cell_type": "code",
      "execution_count": null,
      "metadata": {
        "id": "9OQ3_JwsERie"
      },
      "outputs": [],
      "source": [
        "def train_model(model, criterion, optimizer, scheduler, num_epochs=14):\n",
        "    since = time.time()\n",
        "    \n",
        "    best_model_wts = copy.deepcopy(model.state_dict())\n",
        "    best_acc = 0.0\n",
        "    \n",
        "    for epoch in range(num_epochs):\n",
        "        print('Epoch {}/{}'.format(epoch, num_epochs - 1))\n",
        "        print('-' * 10)\n",
        "        \n",
        "        for phase in ['train', 'val']:\n",
        "            if phase == 'train':\n",
        "                model.train()\n",
        "            else:\n",
        "                model.eval()\n",
        "                \n",
        "            running_loss = 0.0\n",
        "            running_corrects = 0\n",
        "            \n",
        "            for inputs, labels in dataloaders[phase]:\n",
        "                inputs = inputs.to(device)\n",
        "                labels = labels.to(device)\n",
        "                \n",
        "                optimizer.zero_grad()\n",
        "                \n",
        "                with torch.set_grad_enabled(phase == 'train'):\n",
        "                    outputs = model(inputs)\n",
        "                    _, preds = torch.max(outputs, 1)\n",
        "                    loss = criterion(outputs, labels)\n",
        "                    \n",
        "                    if phase == 'train':\n",
        "                        loss.backward()\n",
        "                        optimizer.step()\n",
        "                        \n",
        "                running_loss += loss.item() * inputs.size(0)\n",
        "                running_corrects += torch.sum(preds == labels.data)\n",
        "                \n",
        "            if phase == 'train':\n",
        "                scheduler.step()\n",
        "                \n",
        "            epoch_loss = running_loss / data_size[phase]\n",
        "            epoch_acc = running_corrects.double() / data_size[phase]\n",
        "            \n",
        "            print('{} Loss: {:.4f} Acc: {:.4f}'.format(\n",
        "                phase, epoch_loss, epoch_acc))\n",
        "            \n",
        "            if phase == 'val' and epoch_acc > best_acc:\n",
        "                best_acc = epoch_acc\n",
        "                best_model_wts = copy.deepcopy(model.state_dict())\n",
        "        print()\n",
        "    \n",
        "    time_elapsed = time.time() - since\n",
        "    print('Training complete in {:.0f}m {:.0f}s'.format(\n",
        "        time_elapsed // 60, time_elapsed % 60))\n",
        "    print('Best val Acc: {:4f}'.format(best_acc))\n",
        "    \n",
        "    model.load_state_dict(best_model_wts)\n",
        "    return model"
      ]
    },
    {
      "cell_type": "markdown",
      "metadata": {
        "id": "MvnN-A-1u0Bz"
      },
      "source": [
        "# Set the model, parameters to tune, criterion, oprimizer, and the weight update\n",
        "\n",
        "Resnet Architecture\n",
        "\n",
        "A residual neural network (ResNet) is an artificial neural network (ANN). Residual neural networks utilize skip connections, or shortcuts to jump over some layers. Typical ResNet models are implemented with double- or triple- layer skips that contain nonlinearities (ReLU) and batch normalization in between."
      ]
    },
    {
      "cell_type": "code",
      "execution_count": null,
      "metadata": {
        "colab": {
          "base_uri": "https://localhost:8080/",
          "height": 1000,
          "referenced_widgets": [
            "0e9e65d3555b465286bdd06ca4f1c4fc",
            "9bbe443409774f4ebbb092c5935da06e",
            "4f950a18ed574a01aeec53733f841b64",
            "642479d1562f4a43ba64d68416be8564",
            "cad0e2d443b3469796ba3bd851a17c85",
            "992ae7a0827747e6a2e300db35a429b5",
            "e874fdbd4f494fa79adcf7fd8c6514b5",
            "59d801ccba8b4655828b3866e4d0d3d7",
            "aa2189c1a59b4cf4b0d99364f1764222",
            "69f875b122a04d638bb94099caceb8dd",
            "60f5eae0bfd340a280fc5887512319e4"
          ]
        },
        "id": "lXY-2MuKFNcI",
        "outputId": "d936df85-f31c-4485-ae5e-aa3c69b4326d"
      },
      "outputs": [
        {
          "name": "stderr",
          "output_type": "stream",
          "text": [
            "Downloading: \"https://download.pytorch.org/models/resnet18-f37072fd.pth\" to /root/.cache/torch/hub/checkpoints/resnet18-f37072fd.pth\n"
          ]
        },
        {
          "data": {
            "application/vnd.jupyter.widget-view+json": {
              "model_id": "0e9e65d3555b465286bdd06ca4f1c4fc",
              "version_major": 2,
              "version_minor": 0
            },
            "text/plain": [
              "  0%|          | 0.00/44.7M [00:00<?, ?B/s]"
            ]
          },
          "metadata": {},
          "output_type": "display_data"
        },
        {
          "name": "stdout",
          "output_type": "stream",
          "text": [
            "Epoch 0/13\n",
            "----------\n",
            "train Loss: 1.1319 Acc: 0.5895\n",
            "val Loss: 0.3599 Acc: 0.8549\n",
            "\n",
            "Epoch 1/13\n",
            "----------\n",
            "train Loss: 1.0835 Acc: 0.6364\n",
            "val Loss: 0.3272 Acc: 0.8824\n",
            "\n",
            "Epoch 2/13\n",
            "----------\n",
            "train Loss: 0.9297 Acc: 0.6872\n",
            "val Loss: 0.2033 Acc: 0.9373\n",
            "\n",
            "Epoch 3/13\n",
            "----------\n",
            "train Loss: 0.9589 Acc: 0.6920\n",
            "val Loss: 0.2488 Acc: 0.9059\n",
            "\n",
            "Epoch 4/13\n",
            "----------\n",
            "train Loss: 0.8915 Acc: 0.7076\n",
            "val Loss: 0.2033 Acc: 0.9373\n",
            "\n",
            "Epoch 5/13\n",
            "----------\n",
            "train Loss: 0.8992 Acc: 0.7129\n",
            "val Loss: 0.2261 Acc: 0.9176\n",
            "\n",
            "Epoch 6/13\n",
            "----------\n",
            "train Loss: 0.9484 Acc: 0.6942\n",
            "val Loss: 0.2715 Acc: 0.9137\n",
            "\n",
            "Epoch 7/13\n",
            "----------\n",
            "train Loss: 0.6959 Acc: 0.7728\n",
            "val Loss: 0.1914 Acc: 0.9373\n",
            "\n",
            "Epoch 8/13\n",
            "----------\n",
            "train Loss: 0.5906 Acc: 0.7963\n",
            "val Loss: 0.2349 Acc: 0.9294\n",
            "\n",
            "Epoch 9/13\n",
            "----------\n",
            "train Loss: 0.7022 Acc: 0.7772\n",
            "val Loss: 0.1369 Acc: 0.9451\n",
            "\n",
            "Epoch 10/13\n",
            "----------\n",
            "train Loss: 0.6579 Acc: 0.7884\n",
            "val Loss: 0.2257 Acc: 0.9294\n",
            "\n",
            "Epoch 11/13\n",
            "----------\n",
            "train Loss: 0.6262 Acc: 0.7941\n",
            "val Loss: 0.2233 Acc: 0.9333\n",
            "\n",
            "Epoch 12/13\n",
            "----------\n",
            "train Loss: 0.6100 Acc: 0.8002\n",
            "val Loss: 0.2306 Acc: 0.9176\n",
            "\n",
            "Epoch 13/13\n",
            "----------\n",
            "train Loss: 0.6202 Acc: 0.7841\n",
            "val Loss: 0.2197 Acc: 0.9176\n",
            "\n",
            "Training complete in 9m 33s\n",
            "Best val Acc: 0.945098\n"
          ]
        }
      ],
      "source": [
        "model_resnet = models.resnet18(pretrained=True)\n",
        "for param in model_resnet.parameters():\n",
        "    param.requires_grad = False\n",
        "\n",
        "num_ftrs = model_resnet.fc.in_features\n",
        "model_resnet.fc = nn.Linear(num_ftrs, len(class_names))\n",
        "model_resnet = model_resnet.to(device)\n",
        "criterion = nn.CrossEntropyLoss()\n",
        "optimizer_conv = optim.SGD(model_resnet.fc.parameters(), lr=0.001, momentum=0.9)\n",
        "exp_lr_scheduler = lr_scheduler.StepLR(optimizer_conv, step_size=7, gamma=0.1)\n",
        "model_resnet = train_model(model_resnet, criterion, optimizer_conv, exp_lr_scheduler, num_epochs=14)"
      ]
    },
    {
      "cell_type": "markdown",
      "metadata": {
        "id": "vZK_g1BWu0B0"
      },
      "source": [
        "# VGG-16 Architecture\n",
        "\n",
        "VGG16 is a convolution neural net (CNN ) proposes a two consecutive 3 x 3 filters provide for an effective receptive field of 5 x 5. Similarly, three 3 x 3 filters make up for a receptive field of 7 x 7. This way, a combination of multiple 3 x 3 filters can stand in for a receptive area of a larger size. . It is one of the excellent vision model architecture till date."
      ]
    },
    {
      "cell_type": "code",
      "execution_count": null,
      "metadata": {
        "colab": {
          "base_uri": "https://localhost:8080/",
          "height": 1000,
          "referenced_widgets": [
            "488fee17ffcc44cd98f89a12790bfc05",
            "9c7692959b5f4f22963c807706d01542",
            "c7779db4f07a4ba08eec9b892d3732b7",
            "5c8d0fa666514b95b3a9d11cbbd243a7",
            "0024890a3f294444b24f88e813b47cab",
            "9de7bb4f9c5346899c6a362917d6c45e",
            "a5bbeff447e64eaea356cdec5ce741e5",
            "399c5b72d9504d3282b8e4da59c49c30",
            "18b13c782b4f4daca1e5ccce41ad920a",
            "6d4d91d918414d86b02a47d50b34c274",
            "3c05b27823f04902b1846bab248d0553"
          ]
        },
        "id": "ARxpHCR8Jw1z",
        "outputId": "348ff7a7-f43e-4347-a980-a938030adcbe"
      },
      "outputs": [
        {
          "metadata": {
            "tags": null
          },
          "name": "stderr",
          "output_type": "stream",
          "text": [
            "Downloading: \"https://download.pytorch.org/models/vgg16-397923af.pth\" to /root/.cache/torch/hub/checkpoints/vgg16-397923af.pth\n"
          ]
        },
        {
          "data": {
            "application/vnd.jupyter.widget-view+json": {
              "model_id": "488fee17ffcc44cd98f89a12790bfc05",
              "version_major": 2,
              "version_minor": 0
            },
            "text/plain": [
              "  0%|          | 0.00/528M [00:00<?, ?B/s]"
            ]
          },
          "metadata": {},
          "output_type": "display_data"
        },
        {
          "metadata": {
            "tags": null
          },
          "name": "stdout",
          "output_type": "stream",
          "text": [
            "Epoch 0/13\n",
            "----------\n",
            "train Loss: 0.7606 Acc: 0.7741\n",
            "val Loss: 0.2098 Acc: 0.9255\n",
            "\n",
            "Epoch 1/13\n",
            "----------\n",
            "train Loss: 0.6927 Acc: 0.8236\n",
            "val Loss: 0.3476 Acc: 0.9059\n",
            "\n",
            "Epoch 2/13\n",
            "----------\n",
            "train Loss: 0.6440 Acc: 0.8427\n",
            "val Loss: 0.2096 Acc: 0.9294\n",
            "\n",
            "Epoch 3/13\n",
            "----------\n",
            "train Loss: 0.5918 Acc: 0.8645\n",
            "val Loss: 0.2545 Acc: 0.9490\n",
            "\n",
            "Epoch 4/13\n",
            "----------\n",
            "train Loss: 0.7311 Acc: 0.8414\n",
            "val Loss: 0.0901 Acc: 0.9647\n",
            "\n",
            "Epoch 5/13\n",
            "----------\n",
            "train Loss: 0.7097 Acc: 0.8627\n",
            "val Loss: 0.3280 Acc: 0.9294\n",
            "\n",
            "Epoch 6/13\n",
            "----------\n",
            "train Loss: 0.7408 Acc: 0.8571\n",
            "val Loss: 0.1458 Acc: 0.9725\n",
            "\n",
            "Epoch 7/13\n",
            "----------\n",
            "train Loss: 0.6047 Acc: 0.8632\n",
            "val Loss: 0.0912 Acc: 0.9647\n",
            "\n",
            "Epoch 8/13\n",
            "----------\n",
            "train Loss: 0.5503 Acc: 0.8801\n",
            "val Loss: 0.0886 Acc: 0.9686\n",
            "\n",
            "Epoch 9/13\n",
            "----------\n",
            "train Loss: 0.5277 Acc: 0.8862\n",
            "val Loss: 0.0846 Acc: 0.9686\n",
            "\n",
            "Epoch 10/13\n",
            "----------\n",
            "train Loss: 0.5330 Acc: 0.8888\n",
            "val Loss: 0.0843 Acc: 0.9686\n",
            "\n",
            "Epoch 11/13\n",
            "----------\n",
            "train Loss: 0.5038 Acc: 0.8823\n",
            "val Loss: 0.1021 Acc: 0.9725\n",
            "\n",
            "Epoch 12/13\n",
            "----------\n",
            "train Loss: 0.5386 Acc: 0.8810\n",
            "val Loss: 0.0653 Acc: 0.9843\n",
            "\n",
            "Epoch 13/13\n",
            "----------\n",
            "train Loss: 0.4561 Acc: 0.8905\n",
            "val Loss: 0.0632 Acc: 0.9843\n",
            "\n",
            "Training complete in 17m 30s\n",
            "Best val Acc: 0.984314\n"
          ]
        }
      ],
      "source": [
        "model_vgg16 = models.vgg16(pretrained=True)\n",
        "for param in model_vgg16.parameters():\n",
        "    param.requires_grad = False\n",
        "\n",
        "num_ftrs = model_vgg16.classifier[6].in_features\n",
        "model_vgg16.classifier[6] = nn.Linear(num_ftrs, len(class_names))\n",
        "model_vgg16 = model_vgg16.to(device)\n",
        "criterion = nn.CrossEntropyLoss()\n",
        "optimizer_conv = optim.SGD(model_vgg16.classifier[6].parameters(), lr=0.001, momentum=0.9)\n",
        "exp_lr_scheduler = lr_scheduler.StepLR(optimizer_conv, step_size=7, gamma=0.1)\n",
        "model_vgg16 = train_model(model_vgg16, criterion, optimizer_conv, exp_lr_scheduler, num_epochs=14)"
      ]
    },
    {
      "cell_type": "markdown",
      "metadata": {
        "id": "b8R9Tomau0B1"
      },
      "source": [
        "# AlexNet Architecture\n",
        "\n",
        "The Alexnet has eight layers with learnable parameters. The model consists of five layers with a combination of max pooling followed by 3 fully connected layers and they use Relu activation in each of these layers except the output layer."
      ]
    },
    {
      "cell_type": "code",
      "execution_count": null,
      "metadata": {
        "colab": {
          "base_uri": "https://localhost:8080/"
        },
        "id": "OmsOEkQmOQMG",
        "outputId": "65b07515-4ed6-4566-d172-989496f2e63d"
      },
      "outputs": [
        {
          "name": "stdout",
          "output_type": "stream",
          "text": [
            "Epoch 0/13\n",
            "----------\n",
            "train Loss: 1.5545 Acc: 0.7958\n",
            "val Loss: 0.7034 Acc: 0.9137\n",
            "\n",
            "Epoch 1/13\n",
            "----------\n",
            "train Loss: 1.3400 Acc: 0.8562\n",
            "val Loss: 1.1161 Acc: 0.8745\n",
            "\n",
            "Epoch 2/13\n",
            "----------\n",
            "train Loss: 1.3932 Acc: 0.8640\n",
            "val Loss: 2.2273 Acc: 0.8667\n",
            "\n",
            "Epoch 3/13\n",
            "----------\n",
            "train Loss: 1.3284 Acc: 0.8771\n",
            "val Loss: 1.9807 Acc: 0.8745\n",
            "\n",
            "Epoch 4/13\n",
            "----------\n",
            "train Loss: 1.0840 Acc: 0.8910\n",
            "val Loss: 0.5713 Acc: 0.9412\n",
            "\n",
            "Epoch 5/13\n",
            "----------\n",
            "train Loss: 1.3294 Acc: 0.8749\n",
            "val Loss: 0.3154 Acc: 0.9529\n",
            "\n",
            "Epoch 6/13\n",
            "----------\n",
            "train Loss: 1.3587 Acc: 0.8727\n",
            "val Loss: 0.8976 Acc: 0.9255\n",
            "\n",
            "Epoch 7/13\n",
            "----------\n",
            "train Loss: 0.9875 Acc: 0.9101\n",
            "val Loss: 0.4736 Acc: 0.9412\n",
            "\n",
            "Epoch 8/13\n",
            "----------\n",
            "train Loss: 0.7520 Acc: 0.9201\n",
            "val Loss: 0.3112 Acc: 0.9569\n",
            "\n",
            "Epoch 9/13\n",
            "----------\n",
            "train Loss: 0.7603 Acc: 0.9157\n",
            "val Loss: 0.2668 Acc: 0.9686\n",
            "\n",
            "Epoch 10/13\n",
            "----------\n",
            "train Loss: 0.7514 Acc: 0.9136\n",
            "val Loss: 0.2185 Acc: 0.9686\n",
            "\n",
            "Epoch 11/13\n",
            "----------\n",
            "train Loss: 0.7041 Acc: 0.9205\n",
            "val Loss: 0.2191 Acc: 0.9725\n",
            "\n",
            "Epoch 12/13\n",
            "----------\n",
            "train Loss: 0.5349 Acc: 0.9353\n",
            "val Loss: 0.1841 Acc: 0.9725\n",
            "\n",
            "Epoch 13/13\n",
            "----------\n",
            "train Loss: 0.6069 Acc: 0.9214\n",
            "val Loss: 0.2333 Acc: 0.9608\n",
            "\n",
            "Training complete in 4m 31s\n",
            "Best val Acc: 0.972549\n"
          ]
        }
      ],
      "source": [
        "model_alexnet = models.alexnet(pretrained=True)\n",
        "for param in model_alexnet.parameters():\n",
        "    param.requires_grad = False\n",
        "\n",
        "num_ftrs = model_alexnet.classifier[6].in_features\n",
        "model_alexnet.classifier[6] = nn.Linear(num_ftrs, len(class_names))\n",
        "model_alexnet = model_alexnet.to(device)\n",
        "criterion = nn.CrossEntropyLoss()\n",
        "optimizer_conv = optim.SGD(model_alexnet.classifier[6].parameters(), lr=0.001, momentum=0.9)\n",
        "exp_lr_scheduler = lr_scheduler.StepLR(optimizer_conv, step_size=7, gamma=0.1)\n",
        "model_alexnet = train_model(model_alexnet, criterion, optimizer_conv, exp_lr_scheduler, num_epochs=14)"
      ]
    },
    {
      "cell_type": "markdown",
      "metadata": {
        "id": "ecnQ5-Xdu0B1"
      },
      "source": [
        "# Conclusion\n",
        "Accuracy Comparisons : \n",
        "\n",
        "**Custome Network Model : 94%, \n",
        "Resnet Netrowrk : 94%, \n",
        "VGG Network : 98%, \n",
        "Alexnet Network :97%**\n",
        "\n",
        "Custom Network Model has an accuracy of 94%.\n",
        "To determine which model to use, we have to consider based on our needs. Indeed, we require a model with great accuracy to it. \n",
        " \n",
        "For Example, if we plan on deploying to the web application, the model must have a small size, so we that we can deploy that on GitHub and Heroku.\n",
        "\n",
        "Based on those results, we conclude that the AlexNet is the best and the fastest model to classify the disease on the apple in 4 minutes and 31 seconds. Also, we can see that the VGG-16 model is the slowest and ResNet has lowest accuracy score. While deploying those models, the AlexNet has the smallest size. Therefore, we will use the AlexNet model as our classifier."
      ]
    }
  ],
  "metadata": {
    "accelerator": "GPU",
    "colab": {
      "collapsed_sections": [],
      "name": "Resnet-VGG-Alexnet.ipynb",
      "provenance": [],
      "include_colab_link": true
    },
    "kernelspec": {
      "display_name": "Python 3 (ipykernel)",
      "language": "python",
      "name": "python3"
    },
    "language_info": {
      "codemirror_mode": {
        "name": "ipython",
        "version": 3
      },
      "file_extension": ".py",
      "mimetype": "text/x-python",
      "name": "python",
      "nbconvert_exporter": "python",
      "pygments_lexer": "ipython3",
      "version": "3.9.7"
    },
    "widgets": {
      "application/vnd.jupyter.widget-state+json": {
        "0024890a3f294444b24f88e813b47cab": {
          "model_module": "@jupyter-widgets/base",
          "model_module_version": "1.2.0",
          "model_name": "LayoutModel",
          "state": {
            "_model_module": "@jupyter-widgets/base",
            "_model_module_version": "1.2.0",
            "_model_name": "LayoutModel",
            "_view_count": null,
            "_view_module": "@jupyter-widgets/base",
            "_view_module_version": "1.2.0",
            "_view_name": "LayoutView",
            "align_content": null,
            "align_items": null,
            "align_self": null,
            "border": null,
            "bottom": null,
            "display": null,
            "flex": null,
            "flex_flow": null,
            "grid_area": null,
            "grid_auto_columns": null,
            "grid_auto_flow": null,
            "grid_auto_rows": null,
            "grid_column": null,
            "grid_gap": null,
            "grid_row": null,
            "grid_template_areas": null,
            "grid_template_columns": null,
            "grid_template_rows": null,
            "height": null,
            "justify_content": null,
            "justify_items": null,
            "left": null,
            "margin": null,
            "max_height": null,
            "max_width": null,
            "min_height": null,
            "min_width": null,
            "object_fit": null,
            "object_position": null,
            "order": null,
            "overflow": null,
            "overflow_x": null,
            "overflow_y": null,
            "padding": null,
            "right": null,
            "top": null,
            "visibility": null,
            "width": null
          }
        },
        "0e9e65d3555b465286bdd06ca4f1c4fc": {
          "model_module": "@jupyter-widgets/controls",
          "model_module_version": "1.5.0",
          "model_name": "HBoxModel",
          "state": {
            "_dom_classes": [],
            "_model_module": "@jupyter-widgets/controls",
            "_model_module_version": "1.5.0",
            "_model_name": "HBoxModel",
            "_view_count": null,
            "_view_module": "@jupyter-widgets/controls",
            "_view_module_version": "1.5.0",
            "_view_name": "HBoxView",
            "box_style": "",
            "children": [
              "IPY_MODEL_9bbe443409774f4ebbb092c5935da06e",
              "IPY_MODEL_4f950a18ed574a01aeec53733f841b64",
              "IPY_MODEL_642479d1562f4a43ba64d68416be8564"
            ],
            "layout": "IPY_MODEL_cad0e2d443b3469796ba3bd851a17c85"
          }
        },
        "18b13c782b4f4daca1e5ccce41ad920a": {
          "model_module": "@jupyter-widgets/controls",
          "model_module_version": "1.5.0",
          "model_name": "ProgressStyleModel",
          "state": {
            "_model_module": "@jupyter-widgets/controls",
            "_model_module_version": "1.5.0",
            "_model_name": "ProgressStyleModel",
            "_view_count": null,
            "_view_module": "@jupyter-widgets/base",
            "_view_module_version": "1.2.0",
            "_view_name": "StyleView",
            "bar_color": null,
            "description_width": ""
          }
        },
        "399c5b72d9504d3282b8e4da59c49c30": {
          "model_module": "@jupyter-widgets/base",
          "model_module_version": "1.2.0",
          "model_name": "LayoutModel",
          "state": {
            "_model_module": "@jupyter-widgets/base",
            "_model_module_version": "1.2.0",
            "_model_name": "LayoutModel",
            "_view_count": null,
            "_view_module": "@jupyter-widgets/base",
            "_view_module_version": "1.2.0",
            "_view_name": "LayoutView",
            "align_content": null,
            "align_items": null,
            "align_self": null,
            "border": null,
            "bottom": null,
            "display": null,
            "flex": null,
            "flex_flow": null,
            "grid_area": null,
            "grid_auto_columns": null,
            "grid_auto_flow": null,
            "grid_auto_rows": null,
            "grid_column": null,
            "grid_gap": null,
            "grid_row": null,
            "grid_template_areas": null,
            "grid_template_columns": null,
            "grid_template_rows": null,
            "height": null,
            "justify_content": null,
            "justify_items": null,
            "left": null,
            "margin": null,
            "max_height": null,
            "max_width": null,
            "min_height": null,
            "min_width": null,
            "object_fit": null,
            "object_position": null,
            "order": null,
            "overflow": null,
            "overflow_x": null,
            "overflow_y": null,
            "padding": null,
            "right": null,
            "top": null,
            "visibility": null,
            "width": null
          }
        },
        "3c05b27823f04902b1846bab248d0553": {
          "model_module": "@jupyter-widgets/controls",
          "model_module_version": "1.5.0",
          "model_name": "DescriptionStyleModel",
          "state": {
            "_model_module": "@jupyter-widgets/controls",
            "_model_module_version": "1.5.0",
            "_model_name": "DescriptionStyleModel",
            "_view_count": null,
            "_view_module": "@jupyter-widgets/base",
            "_view_module_version": "1.2.0",
            "_view_name": "StyleView",
            "description_width": ""
          }
        },
        "488fee17ffcc44cd98f89a12790bfc05": {
          "model_module": "@jupyter-widgets/controls",
          "model_module_version": "1.5.0",
          "model_name": "HBoxModel",
          "state": {
            "_dom_classes": [],
            "_model_module": "@jupyter-widgets/controls",
            "_model_module_version": "1.5.0",
            "_model_name": "HBoxModel",
            "_view_count": null,
            "_view_module": "@jupyter-widgets/controls",
            "_view_module_version": "1.5.0",
            "_view_name": "HBoxView",
            "box_style": "",
            "children": [
              "IPY_MODEL_9c7692959b5f4f22963c807706d01542",
              "IPY_MODEL_c7779db4f07a4ba08eec9b892d3732b7",
              "IPY_MODEL_5c8d0fa666514b95b3a9d11cbbd243a7"
            ],
            "layout": "IPY_MODEL_0024890a3f294444b24f88e813b47cab"
          }
        },
        "4f950a18ed574a01aeec53733f841b64": {
          "model_module": "@jupyter-widgets/controls",
          "model_module_version": "1.5.0",
          "model_name": "FloatProgressModel",
          "state": {
            "_dom_classes": [],
            "_model_module": "@jupyter-widgets/controls",
            "_model_module_version": "1.5.0",
            "_model_name": "FloatProgressModel",
            "_view_count": null,
            "_view_module": "@jupyter-widgets/controls",
            "_view_module_version": "1.5.0",
            "_view_name": "ProgressView",
            "bar_style": "success",
            "description": "",
            "description_tooltip": null,
            "layout": "IPY_MODEL_59d801ccba8b4655828b3866e4d0d3d7",
            "max": 46830571,
            "min": 0,
            "orientation": "horizontal",
            "style": "IPY_MODEL_aa2189c1a59b4cf4b0d99364f1764222",
            "value": 46830571
          }
        },
        "59d801ccba8b4655828b3866e4d0d3d7": {
          "model_module": "@jupyter-widgets/base",
          "model_module_version": "1.2.0",
          "model_name": "LayoutModel",
          "state": {
            "_model_module": "@jupyter-widgets/base",
            "_model_module_version": "1.2.0",
            "_model_name": "LayoutModel",
            "_view_count": null,
            "_view_module": "@jupyter-widgets/base",
            "_view_module_version": "1.2.0",
            "_view_name": "LayoutView",
            "align_content": null,
            "align_items": null,
            "align_self": null,
            "border": null,
            "bottom": null,
            "display": null,
            "flex": null,
            "flex_flow": null,
            "grid_area": null,
            "grid_auto_columns": null,
            "grid_auto_flow": null,
            "grid_auto_rows": null,
            "grid_column": null,
            "grid_gap": null,
            "grid_row": null,
            "grid_template_areas": null,
            "grid_template_columns": null,
            "grid_template_rows": null,
            "height": null,
            "justify_content": null,
            "justify_items": null,
            "left": null,
            "margin": null,
            "max_height": null,
            "max_width": null,
            "min_height": null,
            "min_width": null,
            "object_fit": null,
            "object_position": null,
            "order": null,
            "overflow": null,
            "overflow_x": null,
            "overflow_y": null,
            "padding": null,
            "right": null,
            "top": null,
            "visibility": null,
            "width": null
          }
        },
        "5c8d0fa666514b95b3a9d11cbbd243a7": {
          "model_module": "@jupyter-widgets/controls",
          "model_module_version": "1.5.0",
          "model_name": "HTMLModel",
          "state": {
            "_dom_classes": [],
            "_model_module": "@jupyter-widgets/controls",
            "_model_module_version": "1.5.0",
            "_model_name": "HTMLModel",
            "_view_count": null,
            "_view_module": "@jupyter-widgets/controls",
            "_view_module_version": "1.5.0",
            "_view_name": "HTMLView",
            "description": "",
            "description_tooltip": null,
            "layout": "IPY_MODEL_6d4d91d918414d86b02a47d50b34c274",
            "placeholder": "​",
            "style": "IPY_MODEL_3c05b27823f04902b1846bab248d0553",
            "value": " 528M/528M [00:04&lt;00:00, 134MB/s]"
          }
        },
        "60f5eae0bfd340a280fc5887512319e4": {
          "model_module": "@jupyter-widgets/controls",
          "model_module_version": "1.5.0",
          "model_name": "DescriptionStyleModel",
          "state": {
            "_model_module": "@jupyter-widgets/controls",
            "_model_module_version": "1.5.0",
            "_model_name": "DescriptionStyleModel",
            "_view_count": null,
            "_view_module": "@jupyter-widgets/base",
            "_view_module_version": "1.2.0",
            "_view_name": "StyleView",
            "description_width": ""
          }
        },
        "642479d1562f4a43ba64d68416be8564": {
          "model_module": "@jupyter-widgets/controls",
          "model_module_version": "1.5.0",
          "model_name": "HTMLModel",
          "state": {
            "_dom_classes": [],
            "_model_module": "@jupyter-widgets/controls",
            "_model_module_version": "1.5.0",
            "_model_name": "HTMLModel",
            "_view_count": null,
            "_view_module": "@jupyter-widgets/controls",
            "_view_module_version": "1.5.0",
            "_view_name": "HTMLView",
            "description": "",
            "description_tooltip": null,
            "layout": "IPY_MODEL_69f875b122a04d638bb94099caceb8dd",
            "placeholder": "​",
            "style": "IPY_MODEL_60f5eae0bfd340a280fc5887512319e4",
            "value": " 44.7M/44.7M [00:00&lt;00:00, 117MB/s]"
          }
        },
        "69f875b122a04d638bb94099caceb8dd": {
          "model_module": "@jupyter-widgets/base",
          "model_module_version": "1.2.0",
          "model_name": "LayoutModel",
          "state": {
            "_model_module": "@jupyter-widgets/base",
            "_model_module_version": "1.2.0",
            "_model_name": "LayoutModel",
            "_view_count": null,
            "_view_module": "@jupyter-widgets/base",
            "_view_module_version": "1.2.0",
            "_view_name": "LayoutView",
            "align_content": null,
            "align_items": null,
            "align_self": null,
            "border": null,
            "bottom": null,
            "display": null,
            "flex": null,
            "flex_flow": null,
            "grid_area": null,
            "grid_auto_columns": null,
            "grid_auto_flow": null,
            "grid_auto_rows": null,
            "grid_column": null,
            "grid_gap": null,
            "grid_row": null,
            "grid_template_areas": null,
            "grid_template_columns": null,
            "grid_template_rows": null,
            "height": null,
            "justify_content": null,
            "justify_items": null,
            "left": null,
            "margin": null,
            "max_height": null,
            "max_width": null,
            "min_height": null,
            "min_width": null,
            "object_fit": null,
            "object_position": null,
            "order": null,
            "overflow": null,
            "overflow_x": null,
            "overflow_y": null,
            "padding": null,
            "right": null,
            "top": null,
            "visibility": null,
            "width": null
          }
        },
        "6d4d91d918414d86b02a47d50b34c274": {
          "model_module": "@jupyter-widgets/base",
          "model_module_version": "1.2.0",
          "model_name": "LayoutModel",
          "state": {
            "_model_module": "@jupyter-widgets/base",
            "_model_module_version": "1.2.0",
            "_model_name": "LayoutModel",
            "_view_count": null,
            "_view_module": "@jupyter-widgets/base",
            "_view_module_version": "1.2.0",
            "_view_name": "LayoutView",
            "align_content": null,
            "align_items": null,
            "align_self": null,
            "border": null,
            "bottom": null,
            "display": null,
            "flex": null,
            "flex_flow": null,
            "grid_area": null,
            "grid_auto_columns": null,
            "grid_auto_flow": null,
            "grid_auto_rows": null,
            "grid_column": null,
            "grid_gap": null,
            "grid_row": null,
            "grid_template_areas": null,
            "grid_template_columns": null,
            "grid_template_rows": null,
            "height": null,
            "justify_content": null,
            "justify_items": null,
            "left": null,
            "margin": null,
            "max_height": null,
            "max_width": null,
            "min_height": null,
            "min_width": null,
            "object_fit": null,
            "object_position": null,
            "order": null,
            "overflow": null,
            "overflow_x": null,
            "overflow_y": null,
            "padding": null,
            "right": null,
            "top": null,
            "visibility": null,
            "width": null
          }
        },
        "992ae7a0827747e6a2e300db35a429b5": {
          "model_module": "@jupyter-widgets/base",
          "model_module_version": "1.2.0",
          "model_name": "LayoutModel",
          "state": {
            "_model_module": "@jupyter-widgets/base",
            "_model_module_version": "1.2.0",
            "_model_name": "LayoutModel",
            "_view_count": null,
            "_view_module": "@jupyter-widgets/base",
            "_view_module_version": "1.2.0",
            "_view_name": "LayoutView",
            "align_content": null,
            "align_items": null,
            "align_self": null,
            "border": null,
            "bottom": null,
            "display": null,
            "flex": null,
            "flex_flow": null,
            "grid_area": null,
            "grid_auto_columns": null,
            "grid_auto_flow": null,
            "grid_auto_rows": null,
            "grid_column": null,
            "grid_gap": null,
            "grid_row": null,
            "grid_template_areas": null,
            "grid_template_columns": null,
            "grid_template_rows": null,
            "height": null,
            "justify_content": null,
            "justify_items": null,
            "left": null,
            "margin": null,
            "max_height": null,
            "max_width": null,
            "min_height": null,
            "min_width": null,
            "object_fit": null,
            "object_position": null,
            "order": null,
            "overflow": null,
            "overflow_x": null,
            "overflow_y": null,
            "padding": null,
            "right": null,
            "top": null,
            "visibility": null,
            "width": null
          }
        },
        "9bbe443409774f4ebbb092c5935da06e": {
          "model_module": "@jupyter-widgets/controls",
          "model_module_version": "1.5.0",
          "model_name": "HTMLModel",
          "state": {
            "_dom_classes": [],
            "_model_module": "@jupyter-widgets/controls",
            "_model_module_version": "1.5.0",
            "_model_name": "HTMLModel",
            "_view_count": null,
            "_view_module": "@jupyter-widgets/controls",
            "_view_module_version": "1.5.0",
            "_view_name": "HTMLView",
            "description": "",
            "description_tooltip": null,
            "layout": "IPY_MODEL_992ae7a0827747e6a2e300db35a429b5",
            "placeholder": "​",
            "style": "IPY_MODEL_e874fdbd4f494fa79adcf7fd8c6514b5",
            "value": "100%"
          }
        },
        "9c7692959b5f4f22963c807706d01542": {
          "model_module": "@jupyter-widgets/controls",
          "model_module_version": "1.5.0",
          "model_name": "HTMLModel",
          "state": {
            "_dom_classes": [],
            "_model_module": "@jupyter-widgets/controls",
            "_model_module_version": "1.5.0",
            "_model_name": "HTMLModel",
            "_view_count": null,
            "_view_module": "@jupyter-widgets/controls",
            "_view_module_version": "1.5.0",
            "_view_name": "HTMLView",
            "description": "",
            "description_tooltip": null,
            "layout": "IPY_MODEL_9de7bb4f9c5346899c6a362917d6c45e",
            "placeholder": "​",
            "style": "IPY_MODEL_a5bbeff447e64eaea356cdec5ce741e5",
            "value": "100%"
          }
        },
        "9de7bb4f9c5346899c6a362917d6c45e": {
          "model_module": "@jupyter-widgets/base",
          "model_module_version": "1.2.0",
          "model_name": "LayoutModel",
          "state": {
            "_model_module": "@jupyter-widgets/base",
            "_model_module_version": "1.2.0",
            "_model_name": "LayoutModel",
            "_view_count": null,
            "_view_module": "@jupyter-widgets/base",
            "_view_module_version": "1.2.0",
            "_view_name": "LayoutView",
            "align_content": null,
            "align_items": null,
            "align_self": null,
            "border": null,
            "bottom": null,
            "display": null,
            "flex": null,
            "flex_flow": null,
            "grid_area": null,
            "grid_auto_columns": null,
            "grid_auto_flow": null,
            "grid_auto_rows": null,
            "grid_column": null,
            "grid_gap": null,
            "grid_row": null,
            "grid_template_areas": null,
            "grid_template_columns": null,
            "grid_template_rows": null,
            "height": null,
            "justify_content": null,
            "justify_items": null,
            "left": null,
            "margin": null,
            "max_height": null,
            "max_width": null,
            "min_height": null,
            "min_width": null,
            "object_fit": null,
            "object_position": null,
            "order": null,
            "overflow": null,
            "overflow_x": null,
            "overflow_y": null,
            "padding": null,
            "right": null,
            "top": null,
            "visibility": null,
            "width": null
          }
        },
        "a5bbeff447e64eaea356cdec5ce741e5": {
          "model_module": "@jupyter-widgets/controls",
          "model_module_version": "1.5.0",
          "model_name": "DescriptionStyleModel",
          "state": {
            "_model_module": "@jupyter-widgets/controls",
            "_model_module_version": "1.5.0",
            "_model_name": "DescriptionStyleModel",
            "_view_count": null,
            "_view_module": "@jupyter-widgets/base",
            "_view_module_version": "1.2.0",
            "_view_name": "StyleView",
            "description_width": ""
          }
        },
        "aa2189c1a59b4cf4b0d99364f1764222": {
          "model_module": "@jupyter-widgets/controls",
          "model_module_version": "1.5.0",
          "model_name": "ProgressStyleModel",
          "state": {
            "_model_module": "@jupyter-widgets/controls",
            "_model_module_version": "1.5.0",
            "_model_name": "ProgressStyleModel",
            "_view_count": null,
            "_view_module": "@jupyter-widgets/base",
            "_view_module_version": "1.2.0",
            "_view_name": "StyleView",
            "bar_color": null,
            "description_width": ""
          }
        },
        "c7779db4f07a4ba08eec9b892d3732b7": {
          "model_module": "@jupyter-widgets/controls",
          "model_module_version": "1.5.0",
          "model_name": "FloatProgressModel",
          "state": {
            "_dom_classes": [],
            "_model_module": "@jupyter-widgets/controls",
            "_model_module_version": "1.5.0",
            "_model_name": "FloatProgressModel",
            "_view_count": null,
            "_view_module": "@jupyter-widgets/controls",
            "_view_module_version": "1.5.0",
            "_view_name": "ProgressView",
            "bar_style": "success",
            "description": "",
            "description_tooltip": null,
            "layout": "IPY_MODEL_399c5b72d9504d3282b8e4da59c49c30",
            "max": 553433881,
            "min": 0,
            "orientation": "horizontal",
            "style": "IPY_MODEL_18b13c782b4f4daca1e5ccce41ad920a",
            "value": 553433881
          }
        },
        "cad0e2d443b3469796ba3bd851a17c85": {
          "model_module": "@jupyter-widgets/base",
          "model_module_version": "1.2.0",
          "model_name": "LayoutModel",
          "state": {
            "_model_module": "@jupyter-widgets/base",
            "_model_module_version": "1.2.0",
            "_model_name": "LayoutModel",
            "_view_count": null,
            "_view_module": "@jupyter-widgets/base",
            "_view_module_version": "1.2.0",
            "_view_name": "LayoutView",
            "align_content": null,
            "align_items": null,
            "align_self": null,
            "border": null,
            "bottom": null,
            "display": null,
            "flex": null,
            "flex_flow": null,
            "grid_area": null,
            "grid_auto_columns": null,
            "grid_auto_flow": null,
            "grid_auto_rows": null,
            "grid_column": null,
            "grid_gap": null,
            "grid_row": null,
            "grid_template_areas": null,
            "grid_template_columns": null,
            "grid_template_rows": null,
            "height": null,
            "justify_content": null,
            "justify_items": null,
            "left": null,
            "margin": null,
            "max_height": null,
            "max_width": null,
            "min_height": null,
            "min_width": null,
            "object_fit": null,
            "object_position": null,
            "order": null,
            "overflow": null,
            "overflow_x": null,
            "overflow_y": null,
            "padding": null,
            "right": null,
            "top": null,
            "visibility": null,
            "width": null
          }
        },
        "e874fdbd4f494fa79adcf7fd8c6514b5": {
          "model_module": "@jupyter-widgets/controls",
          "model_module_version": "1.5.0",
          "model_name": "DescriptionStyleModel",
          "state": {
            "_model_module": "@jupyter-widgets/controls",
            "_model_module_version": "1.5.0",
            "_model_name": "DescriptionStyleModel",
            "_view_count": null,
            "_view_module": "@jupyter-widgets/base",
            "_view_module_version": "1.2.0",
            "_view_name": "StyleView",
            "description_width": ""
          }
        }
      }
    }
  },
  "nbformat": 4,
  "nbformat_minor": 0
}